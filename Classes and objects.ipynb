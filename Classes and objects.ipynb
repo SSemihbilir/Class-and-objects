{
 "cells": [
  {
   "cell_type": "markdown",
   "metadata": {},
   "source": [
    "# Classes and Objects\n",
    "\n",
    "Python is an object oriented language and almost everything (int, float, list, dict, etc.) is an object having methods and attributes."
   ]
  },
  {
   "cell_type": "markdown",
   "metadata": {},
   "source": [
    "Constructing a class:"
   ]
  },
  {
   "cell_type": "code",
   "execution_count": 1,
   "metadata": {},
   "outputs": [],
   "source": [
    "class SampleClass:\n",
    "    sample_attribute = 2"
   ]
  },
  {
   "cell_type": "markdown",
   "metadata": {},
   "source": [
    "Creating an instance:"
   ]
  },
  {
   "cell_type": "code",
   "execution_count": 2,
   "metadata": {},
   "outputs": [
    {
     "data": {
      "text/plain": [
       "2"
      ]
     },
     "execution_count": 2,
     "metadata": {},
     "output_type": "execute_result"
    }
   ],
   "source": [
    "sample_object = SampleClass()\n",
    "sample_object.sample_attribute"
   ]
  },
  {
   "cell_type": "markdown",
   "metadata": {},
   "source": [
    "- Create an instance of a list"
   ]
  },
  {
   "cell_type": "code",
   "execution_count": 3,
   "metadata": {},
   "outputs": [
    {
     "data": {
      "text/plain": [
       "[]"
      ]
     },
     "execution_count": 3,
     "metadata": {},
     "output_type": "execute_result"
    }
   ],
   "source": [
    "l = list()\n",
    "l"
   ]
  },
  {
   "cell_type": "code",
   "execution_count": 4,
   "metadata": {},
   "outputs": [],
   "source": [
    "class Clan:\n",
    "    def __init__(self):\n",
    "        self.liste = [1,2,3]\n",
    "       \n",
    "    \n",
    "    "
   ]
  },
  {
   "cell_type": "code",
   "execution_count": 5,
   "metadata": {},
   "outputs": [
    {
     "data": {
      "text/plain": [
       "[1, 2, 3]"
      ]
     },
     "execution_count": 5,
     "metadata": {},
     "output_type": "execute_result"
    }
   ],
   "source": [
    "a = Clan()\n",
    "a.liste"
   ]
  },
  {
   "cell_type": "markdown",
   "metadata": {},
   "source": [
    "Accessing object's attributes:"
   ]
  },
  {
   "cell_type": "code",
   "execution_count": 6,
   "metadata": {},
   "outputs": [
    {
     "data": {
      "text/plain": [
       "2"
      ]
     },
     "execution_count": 6,
     "metadata": {},
     "output_type": "execute_result"
    }
   ],
   "source": [
    "sample_object.sample_attribute"
   ]
  },
  {
   "cell_type": "markdown",
   "metadata": {},
   "source": [
    "### `__init__` and Methods\n",
    "\n",
    "Functions defined within classes are called **methods**.  \n",
    "They act very much like other functions."
   ]
  },
  {
   "cell_type": "code",
   "execution_count": 7,
   "metadata": {},
   "outputs": [],
   "source": [
    "class Ship:\n",
    "    length  = 180\n",
    "    \n",
    "    def blow_horn(self):\n",
    "        print('Beep!')\n",
    "        "
   ]
  },
  {
   "cell_type": "code",
   "execution_count": 8,
   "metadata": {},
   "outputs": [
    {
     "name": "stdout",
     "output_type": "stream",
     "text": [
      "Beep!\n"
     ]
    }
   ],
   "source": [
    "ship = Ship()\n",
    "\n",
    "ship.blow_horn()"
   ]
  },
  {
   "cell_type": "markdown",
   "metadata": {},
   "source": [
    "Methods (except for static and class methods which we will cover later) take `self` as their first argument when defined.  \n",
    "Self means the object itself, making object's self methods and attributes accessible within current context.  \n",
    "`self` is explicitly shown when defining the methods, but actually not passed to the method when using the method itself.\n",
    "\n",
    "```python\n",
    "class Ship:\n",
    "    length  = 180\n",
    "    name = 'Fatih'\n",
    "    \n",
    "    def blow_horn(self):  # Observe the argument self\n",
    "        print('Beep!')\n",
    "```"
   ]
  },
  {
   "cell_type": "code",
   "execution_count": 9,
   "metadata": {},
   "outputs": [
    {
     "name": "stdout",
     "output_type": "stream",
     "text": [
      "Beep!\n"
     ]
    }
   ],
   "source": [
    "ship.blow_horn()  # self is not explicitly shown here"
   ]
  },
  {
   "cell_type": "markdown",
   "metadata": {},
   "source": [
    "Creating an instance calls that class' `__init__` method. Even if it is not explicitly defined, it is still there by default. "
   ]
  },
  {
   "cell_type": "code",
   "execution_count": 10,
   "metadata": {},
   "outputs": [
    {
     "data": {
      "text/plain": [
       "True"
      ]
     },
     "execution_count": 10,
     "metadata": {},
     "output_type": "execute_result"
    }
   ],
   "source": [
    "'__init__' in dir(sample_object)"
   ]
  },
  {
   "cell_type": "markdown",
   "metadata": {},
   "source": [
    "We can define an `__init__` method to customize how an instance of the class is initiated. This is especially useful if we want to assign parameters to attributes. "
   ]
  },
  {
   "cell_type": "code",
   "execution_count": 26,
   "metadata": {},
   "outputs": [
    {
     "ename": "SyntaxError",
     "evalue": "positional argument follows keyword argument (714571772.py, line 11)",
     "output_type": "error",
     "traceback": [
      "\u001b[1;36m  Cell \u001b[1;32mIn [26], line 11\u001b[1;36m\u001b[0m\n\u001b[1;33m    red_ship = Ship(speed=22, durability=80, horn_sound)\u001b[0m\n\u001b[1;37m                                             ^\u001b[0m\n\u001b[1;31mSyntaxError\u001b[0m\u001b[1;31m:\u001b[0m positional argument follows keyword argument\n"
     ]
    }
   ],
   "source": [
    "class Ship:\n",
    "    visibility = True\n",
    "    def __init__(self, speed, durability, horn_sound='BAARB!'):\n",
    "        self.speed = speed\n",
    "        self.durability = durability\n",
    "        self.horn_sound = horn_sound\n",
    "        \n",
    "    def blow_horn(self):\n",
    "        print(self.horn_sound)\n",
    "        \n",
    "red_ship = Ship(speed=22, durability=80, horn_sound)\n",
    "print(red_ship.speed)\n",
    "print(red_ship.durability)\n",
    "print(red_ship.visibility)  # User cannot assign a custom value to visibility while creating an instance\n",
    "red_ship.blow_horn()"
   ]
  },
  {
   "cell_type": "markdown",
   "metadata": {},
   "source": [
    "There are many other default methods to explore. We will use them later."
   ]
  },
  {
   "cell_type": "markdown",
   "metadata": {},
   "source": [
    "- Create a class, Ship, having location and range."
   ]
  },
  {
   "cell_type": "code",
   "execution_count": 12,
   "metadata": {},
   "outputs": [],
   "source": [
    "class Shipl:\n",
    "    \n",
    "    def __init__(self, location= (20,30), distance = 12):\n",
    "        self.location = location\n",
    "        self.distance = distance\n",
    "        "
   ]
  },
  {
   "cell_type": "code",
   "execution_count": 13,
   "metadata": {},
   "outputs": [],
   "source": [
    "solihreis = Shipl()"
   ]
  },
  {
   "cell_type": "code",
   "execution_count": 27,
   "metadata": {},
   "outputs": [
    {
     "data": {
      "text/plain": [
       "(20, 30)"
      ]
     },
     "execution_count": 27,
     "metadata": {},
     "output_type": "execute_result"
    }
   ],
   "source": [
    "solihreis.location"
   ]
  },
  {
   "cell_type": "markdown",
   "metadata": {},
   "source": [
    "## Inheritance\n",
    "\n",
    "The class we have just defined, Ship, is a very general one. We may need special subclasses for specialized needs.  \n",
    "This new class `Submarine` will have all the attributes of a ship plus its own special attributes."
   ]
  },
  {
   "cell_type": "code",
   "execution_count": 15,
   "metadata": {},
   "outputs": [],
   "source": [
    "class Submarine(Ship):\n",
    "    visibility = False"
   ]
  },
  {
   "cell_type": "code",
   "execution_count": null,
   "metadata": {},
   "outputs": [],
   "source": []
  },
  {
   "cell_type": "markdown",
   "metadata": {},
   "source": [
    "Submarine has all the attributes of the ship, plus `visibility`."
   ]
  },
  {
   "cell_type": "code",
   "execution_count": 16,
   "metadata": {},
   "outputs": [
    {
     "name": "stdout",
     "output_type": "stream",
     "text": [
      "Speed: 22\n",
      "Durability: 40\n",
      "Visibility: False\n"
     ]
    }
   ],
   "source": [
    "sub = Submarine(22, 40)\n",
    "\n",
    "print('Speed:', sub.speed)\n",
    "print('Durability:', sub.durability)\n",
    "print('Visibility:', sub.visibility)"
   ]
  },
  {
   "cell_type": "code",
   "execution_count": null,
   "metadata": {},
   "outputs": [],
   "source": []
  },
  {
   "cell_type": "markdown",
   "metadata": {},
   "source": [
    "If we want to pass speed and durability to this new subclass Submarine:"
   ]
  },
  {
   "cell_type": "code",
   "execution_count": 28,
   "metadata": {},
   "outputs": [],
   "source": [
    "class Submarine(Ship):\n",
    "    def __init__(self, speed, durability, visibility):\n",
    "        Ship.__init__(self, speed, durability)\n",
    "        self.visibility = visibility"
   ]
  },
  {
   "cell_type": "code",
   "execution_count": 29,
   "metadata": {},
   "outputs": [],
   "source": [
    "sub = Submarine(22, 40, False)"
   ]
  },
  {
   "cell_type": "markdown",
   "metadata": {},
   "source": [
    "- Redefine the class Submarine with two new methods: `surface()` and `submerge()` to change visibility."
   ]
  },
  {
   "cell_type": "code",
   "execution_count": 19,
   "metadata": {},
   "outputs": [],
   "source": [
    "class Submarine(Ship):\n",
    "    def __init__(self, speed, durability, visibility):\n",
    "        Ship.__init__(self, speed, durability)\n",
    "        self.visibility = visibility\n",
    "    def surface(self):\n",
    "        self.visibility = True\n",
    "        print(self.visibility)\n",
    "    def submerge(self):\n",
    "        self.visibility = False\n",
    "        print(self.visibility)"
   ]
  },
  {
   "cell_type": "code",
   "execution_count": 20,
   "metadata": {},
   "outputs": [
    {
     "name": "stdout",
     "output_type": "stream",
     "text": [
      "True\n"
     ]
    }
   ],
   "source": [
    "sub = Submarine(22, 40, False)\n",
    "sub.surface()\n"
   ]
  },
  {
   "cell_type": "code",
   "execution_count": 21,
   "metadata": {},
   "outputs": [
    {
     "name": "stdout",
     "output_type": "stream",
     "text": [
      "False\n"
     ]
    }
   ],
   "source": [
    "sub.submerge()"
   ]
  },
  {
   "cell_type": "markdown",
   "metadata": {},
   "source": [
    "Using inheritance, we can redefine the existing classes to have new methods.\n",
    "- Create an object Array, which can be added elementwise."
   ]
  },
  {
   "cell_type": "code",
   "execution_count": 30,
   "metadata": {},
   "outputs": [],
   "source": [
    "class Array(list):\n",
    "    def __init__(self, *args):\n",
    "        list.__init__(self, *args)\n",
    "        \n",
    "    def __add__(self, arr2):\n",
    "        summ = [self[i] + arr2[i] for i in range(len(self))]\n",
    "        return summ"
   ]
  },
  {
   "cell_type": "code",
   "execution_count": 23,
   "metadata": {},
   "outputs": [
    {
     "data": {
      "text/plain": [
       "[10, 2, 7]"
      ]
     },
     "execution_count": 23,
     "metadata": {},
     "output_type": "execute_result"
    }
   ],
   "source": [
    "a = Array([1, 2, 3])\n",
    "b = Array([9, 0, 4])\n",
    "a + b"
   ]
  },
  {
   "cell_type": "code",
   "execution_count": 31,
   "metadata": {},
   "outputs": [],
   "source": [
    "class Topla(list):\n",
    "    def __init__(self,*args):\n",
    "        list.__init__(self,*args)\n",
    "        \n",
    "    def __add__(self,arr3):\n",
    "        toplam = [self[n] + arr3[n] for n in range(len(self))]\n",
    "        return toplam"
   ]
  },
  {
   "cell_type": "code",
   "execution_count": 33,
   "metadata": {},
   "outputs": [
    {
     "data": {
      "text/plain": [
       "[5, 7, 39]"
      ]
     },
     "execution_count": 33,
     "metadata": {},
     "output_type": "execute_result"
    }
   ],
   "source": [
    "c = Topla([1,2,33])\n",
    "d = Topla([4,5,6])\n",
    "c+d"
   ]
  },
  {
   "cell_type": "code",
   "execution_count": null,
   "metadata": {},
   "outputs": [],
   "source": []
  }
 ],
 "metadata": {
  "kernelspec": {
   "display_name": "Python 3 (ipykernel)",
   "language": "python",
   "name": "python3"
  },
  "language_info": {
   "codemirror_mode": {
    "name": "ipython",
    "version": 3
   },
   "file_extension": ".py",
   "mimetype": "text/x-python",
   "name": "python",
   "nbconvert_exporter": "python",
   "pygments_lexer": "ipython3",
   "version": "3.8.9"
  }
 },
 "nbformat": 4,
 "nbformat_minor": 2
}
